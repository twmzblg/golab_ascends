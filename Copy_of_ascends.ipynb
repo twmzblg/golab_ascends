{
  "nbformat": 4,
  "nbformat_minor": 0,
  "metadata": {
    "colab": {
      "name": "Copy of ascends",
      "provenance": [],
      "collapsed_sections": [],
      "mount_file_id": "1PtJ-feR1Ii_G1lrQQ3ESPin4WVxJV2II",
      "authorship_tag": "ABX9TyPaBfWoszSDGdXFzkoCq15d",
      "include_colab_link": true
    },
    "kernelspec": {
      "name": "python3",
      "display_name": "Python 3"
    }
  },
  "cells": [
    {
      "cell_type": "markdown",
      "metadata": {
        "id": "view-in-github",
        "colab_type": "text"
      },
      "source": [
        "<a href=\"https://colab.research.google.com/github/twmzblg/golab_ascends/blob/master/Copy_of_ascends.ipynb\" target=\"_parent\"><img src=\"https://colab.research.google.com/assets/colab-badge.svg\" alt=\"Open In Colab\"/></a>"
      ]
    },
    {
      "cell_type": "code",
      "metadata": {
        "id": "UD3HgZsaqpbb",
        "colab_type": "code",
        "colab": {
          "base_uri": "https://localhost:8080/",
          "height": 440
        },
        "outputId": "10bb77e5-2c37-455b-9d45-7b26b414435e"
      },
      "source": [
        "!python /content/ascends/ascends_server.py"
      ],
      "execution_count": null,
      "outputs": [
        {
          "output_type": "stream",
          "text": [
            "Using TensorFlow backend.\n",
            "2020-08-21 11:05:16.119818: I tensorflow/core/platform/cpu_feature_guard.cc:141] Your CPU supports instructions that this TensorFlow binary was not compiled to use: AVX2 FMA\n",
            "2020-08-21 11:05:16.123181: I tensorflow/core/platform/profile_utils/cpu_utils.cc:94] CPU Frequency: 2300000000 Hz\n",
            "2020-08-21 11:05:16.123424: I tensorflow/compiler/xla/service/service.cc:150] XLA service 0x1efba20 executing computations on platform Host. Devices:\n",
            "2020-08-21 11:05:16.123461: I tensorflow/compiler/xla/service/service.cc:158]   StreamExecutor device (0): <undefined>, <undefined>\n",
            "\n",
            " * ASCENDS: Advanced data SCiENce toolkit for Non-Data Scientists \n",
            " * Web Server ver 0.1 \n",
            "\n",
            " programmed by Matt Sangkeun Lee (lees4@ornl.gov) \n",
            " please go to : http://localhost:7777/\n",
            "Traceback (most recent call last):\n",
            "  File \"/content/ascends/ascends_server.py\", line 554, in <module>\n",
            "    main()\n",
            "  File \"/content/ascends/ascends_server.py\", line 551, in main\n",
            "    tornado.ioloop.IOLoop.current().start()\n",
            "  File \"/usr/local/lib/python3.6/dist-packages/tornado/platform/asyncio.py\", line 148, in start\n",
            "    self.asyncio_loop.run_forever()\n",
            "  File \"/usr/lib/python3.6/asyncio/base_events.py\", line 438, in run_forever\n",
            "  File \"/usr/lib/python3.6/asyncio/base_events.py\", line 1415, in _run_once\n",
            "    event_list = self._selector.select(timeout)\n",
            "  File \"/usr/lib/python3.6/selectors.py\", line 445, in select\n",
            "    fd_event_list = self._epoll.poll(timeout, max_ev)\n",
            "KeyboardInterrupt\n"
          ],
          "name": "stdout"
        }
      ]
    }
  ]
}